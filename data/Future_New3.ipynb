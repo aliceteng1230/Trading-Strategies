{
 "cells": [
  {
   "cell_type": "code",
   "execution_count": null,
   "metadata": {},
   "outputs": [],
   "source": [
    "import pandas as pd\n",
    "import yfinance as yf\n",
    "import numpy as np\n",
    "import matplotlib.pyplot as plt"
   ]
  },
  {
   "cell_type": "code",
   "execution_count": null,
   "metadata": {},
   "outputs": [],
   "source": [
    "sox_data = yf.download(\"^SOX\", start=\"2022-06-30\", end=\"2024-06-27\", interval=\"1d\")['Close']\n",
    "print(sox_data.head(20))\n",
    "print(len(sox_data))"
   ]
  },
  {
   "cell_type": "code",
   "execution_count": null,
   "metadata": {},
   "outputs": [],
   "source": [
    "sox_data = sox_data.pct_change().shift(1)\n",
    "sox_data"
   ]
  },
  {
   "cell_type": "code",
   "execution_count": null,
   "metadata": {},
   "outputs": [],
   "source": [
    "file_path = 'C:/Users/A51607/Desktop/交易競賽/更新的/testData.xlsx'\n",
    "data = pd.read_excel(file_path)\n",
    "data['date'] = data['datetime'].dt.date\n",
    "data['time'] = data['datetime'].dt.time\n",
    "data['time'] = pd.to_datetime(data['time'], format='%H:%M:%S').dt.time\n",
    "data.head(30)"
   ]
  },
  {
   "cell_type": "code",
   "execution_count": null,
   "metadata": {},
   "outputs": [],
   "source": [
    "data_mor = data[(data['time'] >= pd.to_datetime('08:45:00').time()) & (data['time'] <= pd.to_datetime('13:15:00').time())]\n",
    "date_list = []\n",
    "open_list = []\n",
    "high_list = []\n",
    "low_list = []\n",
    "close_list = []\n",
    "volume_list = []\n",
    "\n",
    "for i in range(0, len(data_mor), 10):\n",
    "    chunk = data_mor.iloc[i:i+10]\n",
    "    date_list.append(chunk['date'].iloc[0])\n",
    "    open_list.append(chunk['open'].iloc[0])\n",
    "    high_list.append(chunk['high'].max())\n",
    "    low_list.append(chunk['low'].min())\n",
    "    close_list.append(chunk['close'].iloc[-1])\n",
    "    volume_list.append(chunk['volume'].sum())\n",
    "\n",
    "daily_data = pd.DataFrame({'Date': date_list, 'Open': open_list, 'High': high_list, 'Low': low_list, 'Close': close_list, 'Volume': volume_list})\n",
    "daily_data.set_index('Date', inplace=True)\n",
    "\n",
    "print(daily_data.head(20))\n",
    "print(len(daily_data))"
   ]
  },
  {
   "cell_type": "code",
   "execution_count": null,
   "metadata": {},
   "outputs": [],
   "source": [
    "plt.figure(figsize=(14, 7))\n",
    "plt.plot(sox_data['Close'], label='SOX Index', color='blue')\n",
    "plt.title('SOX Index')\n",
    "plt.xlabel('Date')\n",
    "plt.ylabel('Price')\n",
    "plt.legend()\n",
    "plt.grid(True)"
   ]
  },
  {
   "cell_type": "code",
   "execution_count": null,
   "metadata": {},
   "outputs": [],
   "source": [
    "plt.figure(figsize=(14, 7))\n",
    "plt.plot(daily_data['Close'], label='TX Future', color='red')\n",
    "plt.title('Taiwan Index Future')\n",
    "plt.xlabel('Date')\n",
    "plt.ylabel('Price')\n",
    "plt.legend()\n",
    "plt.grid(True)"
   ]
  },
  {
   "cell_type": "code",
   "execution_count": null,
   "metadata": {},
   "outputs": [],
   "source": [
    "date_series = pd.to_datetime(date_list)\n",
    "previous_day_series = date_series - pd.Timedelta(days=1)\n",
    "previous_business_days = [date - pd.offsets.BDay(1) for date in date_series]\n",
    "previous_business_days_str = [date.strftime('%Y-%m-%d') for date in previous_business_days]\n",
    "print(previous_business_days_str)"
   ]
  },
  {
   "cell_type": "code",
   "execution_count": null,
   "metadata": {},
   "outputs": [],
   "source": [
    "all_dates = pd.DataFrame(index=pd.to_datetime(previous_business_days_str))\n",
    "sox_predate = all_dates.join(sox_data, how='left')\n",
    "sox_predate = sox_predate.rename(columns={'Open': 'S-Open', 'High': 'S-High', 'Low': 'S-Low', 'Close': 'S-Close'})\n",
    "print(sox_predate)"
   ]
  },
  {
   "cell_type": "code",
   "execution_count": null,
   "metadata": {},
   "outputs": [],
   "source": [
    "f_close = daily_data['Close'].to_list()\n",
    "s_close = sox_predate['S-Close'].to_list()\n",
    "merged_df = pd.DataFrame({'Date': date_list, 'F-Close': f_close, 'S-Close': s_close})\n",
    "print(merged_df.head(20))\n",
    "comparison = merged_df.dropna()\n",
    "future_price = pd.Series(comparison['F-Close'])\n",
    "sox_price = pd.Series(comparison['S-Close'])\n",
    "correlation = future_price.corr(sox_price)\n",
    "print(f'SOX & Future Correlation: {correlation}')"
   ]
  }
 ],
 "metadata": {
  "kernelspec": {
   "display_name": "base",
   "language": "python",
   "name": "python3"
  },
  "language_info": {
   "codemirror_mode": {
    "name": "ipython",
    "version": 3
   },
   "file_extension": ".py",
   "mimetype": "text/x-python",
   "name": "python",
   "nbconvert_exporter": "python",
   "pygments_lexer": "ipython3",
   "version": "3.12.4"
  }
 },
 "nbformat": 4,
 "nbformat_minor": 2
}
