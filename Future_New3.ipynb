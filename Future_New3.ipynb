{
 "cells": [
  {
   "cell_type": "code",
   "execution_count": null,
   "metadata": {},
   "outputs": [],
   "source": [
    "import pandas as pd\n",
    "import yfinance as yf\n",
    "import numpy as np\n",
    "import matplotlib.pyplot as plt"
   ]
  },
  {
   "cell_type": "code",
   "execution_count": null,
   "metadata": {},
   "outputs": [],
   "source": [
    "sox_data = yf.download(\"^SOX\", start=\"2022-06-29\", end=\"2024-06-27\", interval=\"1d\")\n",
    "print(sox_data.head(20))\n",
    "print(len(sox_data))"
   ]
  },
  {
   "cell_type": "code",
   "execution_count": null,
   "metadata": {},
   "outputs": [],
   "source": [
    "tsm_data = yf.download(\"TSM\", start=\"2022-06-29\", end=\"2024-06-27\", interval=\"1d\")\n",
    "print(tsm_data.head(20))\n",
    "print(len(tsm_data))"
   ]
  },
  {
   "cell_type": "code",
   "execution_count": null,
   "metadata": {},
   "outputs": [],
   "source": [
    "file_path = 'C:/Users/A51607/Desktop/交易競賽/更新的/testData.xlsx'\n",
    "data = pd.read_excel(file_path)\n",
    "data['date'] = data['datetime'].dt.date\n",
    "data['time'] = data['datetime'].dt.time\n",
    "data['time'] = pd.to_datetime(data['time'], format='%H:%M:%S').dt.time\n",
    "data.head(30)"
   ]
  },
  {
   "cell_type": "code",
   "execution_count": null,
   "metadata": {},
   "outputs": [],
   "source": [
    "high_low = data['high'] - data['low']\n",
    "high_close = np.abs(data['high'] - data['close'].shift(1))\n",
    "low_close = np.abs(data['low'] - data['close'].shift(1))\n",
    "tr_df = pd.DataFrame({'high_low': high_low, 'high_close': high_close, 'low_close': low_close})\n",
    "tr = tr_df.max(axis=1)\n",
    "n = 14\n",
    "atr_values = tr.rolling(window=n).mean()\n",
    "data['atr'] = atr_values.fillna(0)\n",
    "data.head(30)"
   ]
  },
  {
   "cell_type": "code",
   "execution_count": null,
   "metadata": {},
   "outputs": [],
   "source": [
    "data_mor = data[(data['time'] >= pd.to_datetime('08:45:00').time()) & (data['time'] <= pd.to_datetime('13:15:00').time())]\n",
    "date_list = []\n",
    "open_list = []\n",
    "high_list = []\n",
    "low_list = []\n",
    "close_list = []\n",
    "volume_list = []\n",
    "\n",
    "for i in range(0, len(data_mor), 10):\n",
    "    chunk = data_mor.iloc[i:i+10]\n",
    "    date_list.append(chunk['date'].iloc[0])\n",
    "    open_list.append(chunk['open'].iloc[0])\n",
    "    high_list.append(chunk['high'].max())\n",
    "    low_list.append(chunk['low'].min())\n",
    "    close_list.append(chunk['close'].iloc[-1])\n",
    "    volume_list.append(chunk['volume'].sum())\n",
    "\n",
    "daily_data = pd.DataFrame({'Date': date_list, 'Open': open_list, 'High': high_list, 'Low': low_list, 'Close': close_list, 'Volume': volume_list})\n",
    "daily_data.set_index('Date', inplace=True)\n",
    "daily_data['Short_EMA'] = daily_data['Close'].ewm(span= 5, adjust=False).mean().shift(1).fillna(0)\n",
    "daily_data['Long_EMA'] = daily_data['Close'].ewm(span= 20, adjust=False).mean().shift(1).fillna(0)\n",
    "\n",
    "print(daily_data.tail(20))\n",
    "print(len(daily_data))"
   ]
  },
  {
   "cell_type": "code",
   "execution_count": null,
   "metadata": {},
   "outputs": [],
   "source": [
    "plt.figure(figsize=(14, 7))\n",
    "plt.plot(sox_data['Close'], label='SOX Index', color='blue')\n",
    "plt.title('SOX Index')\n",
    "plt.xlabel('Date')\n",
    "plt.ylabel('Price')\n",
    "plt.legend()\n",
    "plt.grid(True)"
   ]
  },
  {
   "cell_type": "code",
   "execution_count": null,
   "metadata": {},
   "outputs": [],
   "source": [
    "plt.figure(figsize=(14, 7))\n",
    "plt.plot(tsm_data['Close'], label='TSM ADR', color='orange')\n",
    "plt.title('TSM ADR')\n",
    "plt.xlabel('Date')\n",
    "plt.ylabel('Price')\n",
    "plt.legend()\n",
    "plt.grid(True)"
   ]
  },
  {
   "cell_type": "code",
   "execution_count": null,
   "metadata": {},
   "outputs": [],
   "source": [
    "plt.figure(figsize=(14, 7))\n",
    "plt.plot(daily_data['Close'], label='TX Future', color='red')\n",
    "plt.title('Taiwan Index Future')\n",
    "plt.xlabel('Date')\n",
    "plt.ylabel('Price')\n",
    "plt.legend()\n",
    "plt.grid(True)"
   ]
  },
  {
   "cell_type": "code",
   "execution_count": null,
   "metadata": {},
   "outputs": [],
   "source": [
    "daily_data = daily_data.reset_index()\n",
    "for i in range(0, len(data_mor)-9, 10):\n",
    "    for j in range(0, len(daily_data)):\n",
    "        if data_mor.iloc[i]['date'] == daily_data.loc[j]['Date']:    \n",
    "            data_mor.loc[i:i+9, 'Short EMA'] = daily_data.loc[j]['Short_EMA']\n",
    "            data_mor.loc[i:i+9, 'Long EMA'] = daily_data.loc[j]['Long_EMA']\n",
    "\n",
    "print(data_mor.tail(20))\n",
    "data_mor.to_excel(\"C:/Users/A51607/Desktop/交易競賽/更新的/data_mor.xlsx\")\n"
   ]
  },
  {
   "cell_type": "code",
   "execution_count": null,
   "metadata": {},
   "outputs": [],
   "source": [
    "date_series = pd.to_datetime(date_list)\n",
    "previous_day_series = date_series - pd.Timedelta(days=1)\n",
    "previous_business_days = [date - pd.offsets.BDay(1) for date in date_series]\n",
    "previous_business_days_str = [date.strftime('%Y-%m-%d') for date in previous_business_days]\n",
    "print(previous_business_days_str)"
   ]
  },
  {
   "cell_type": "code",
   "execution_count": null,
   "metadata": {},
   "outputs": [],
   "source": [
    "all_dates = pd.DataFrame(index=pd.to_datetime(previous_business_days_str))\n",
    "sox_predate = all_dates.join(sox_data, how='left')\n",
    "sox_predate = sox_predate.rename(columns={'Open': 'S-Open', 'High': 'S-High', 'Low': 'S-Low', 'Close': 'S-Close'})\n",
    "print(sox_predate)"
   ]
  },
  {
   "cell_type": "code",
   "execution_count": null,
   "metadata": {},
   "outputs": [],
   "source": [
    "f_close = daily_data['Close'].to_list()\n",
    "s_close = sox_predate['S-Close'].to_list()\n",
    "merged_df = pd.DataFrame({'Date': date_list, 'F-Close': f_close, 'S-Date': previous_business_days_str, 'S-Close': s_close})\n",
    "comparison = merged_df.dropna()\n",
    "print(comparison.head(20))\n",
    "future_price = pd.Series(comparison['F-Close'])\n",
    "sox_price = pd.Series(comparison['S-Close'])\n",
    "correlation = future_price.corr(sox_price)\n",
    "print(f'SOX & Future Correlation: {correlation}')"
   ]
  },
  {
   "cell_type": "code",
   "execution_count": null,
   "metadata": {},
   "outputs": [],
   "source": [
    "change = yf.download([\"^SOX\", \"TSM\"], start=\"2022-06-29\", end=\"2024-06-27\", interval=\"1d\")['Close'].pct_change().shift(1).dropna()\n",
    "change_df = pd.DataFrame(change)\n",
    "change_df.reset_index(inplace=True)\n",
    "change_df.rename(columns={'index': 'Date'}, inplace=True)\n",
    "change_df.rename(columns={'TSM': 'T-Change'}, inplace=True)\n",
    "change_df.rename(columns={'^SOX': 'S-Change'}, inplace=True)\n",
    "change_df"
   ]
  },
  {
   "cell_type": "code",
   "execution_count": null,
   "metadata": {},
   "outputs": [],
   "source": [
    "comparison['Date'] = pd.to_datetime(comparison['Date'])\n",
    "change_df['Date'] = pd.to_datetime(change_df['Date'])\n",
    "calculation = pd.merge(comparison, change_df, on='Date', how='left').fillna(0)\n",
    "calculation.to_excel('C:/Users/A51607/Desktop/交易競賽/更新的/calculation.xlsx')\n"
   ]
  },
  {
   "cell_type": "code",
   "execution_count": null,
   "metadata": {},
   "outputs": [],
   "source": [
    "data_mor = pd.read_excel(\"data_mor.xlsx\")\n",
    "calculation = pd.read_excel(\"calculation.xlsx\")\n",
    "for i in range(0, len(data_mor)-9, 10):\n",
    "    hit = 0\n",
    "    for j in range(0, len(calculation)):\n",
    "        if data_mor.iloc[i]['date'] == calculation.loc[j]['Date']:    \n",
    "            data_mor.loc[i:i+9, 'S-Change'] = calculation.loc[j]['S-Change']\n",
    "            data_mor.loc[i:i+9, 'T-Change'] = calculation.loc[j]['T-Change']\n",
    "            hit = 1\n",
    "    if hit == 0:\n",
    "        data_mor.loc[i:i+9, 'S-Change'] = 0\n",
    "        data_mor.loc[i:i+9, 'T-Change'] = 0\n",
    "data_mor.to_excel(\"data_mor.xlsx\")"
   ]
  },
  {
   "cell_type": "code",
   "execution_count": null,
   "metadata": {},
   "outputs": [],
   "source": [
    "initial_capital = 100000000\n",
    "slippage = 0\n",
    "commission = 50\n",
    "tax_rate = 0.0002\n",
    "unit_dollar = 200"
   ]
  },
  {
   "cell_type": "code",
   "execution_count": null,
   "metadata": {},
   "outputs": [],
   "source": [
    "Condition = None\n",
    "t = 0\n",
    "stop_profit_point = 400\n",
    "stop_loss_point = 200\n",
    "date_list = []\n",
    "entry_price_list = []\n",
    "\n",
    "trade_df = pd.DataFrame(columns=['Entry Datetime', 'Original Price', 'Condition', 'Entry Price', 'Amount', 'Exit Datetime', 'Exit Price', 'Trade Profit', 'Net Profit', 'Trade Return',])\n",
    "\n",
    "for i in range(0, len(data_mor) - 9, 10):\n",
    "    \n",
    "    schange = data_mor['S-Change'].iloc[i]\n",
    "    tchange = data_mor['T-Change'].iloc[i] \n",
    "    t = i + 1\n",
    "\n",
    "    if schange > 0 and data_mor['Short EMA'].iloc[i] > data_mor['Long EMA'].iloc[i]:\n",
    "        Condition = 'B'\n",
    "        entry_datetime = data_mor['datetime'].iloc[t]\n",
    "        original_price = data_mor['open'].iloc[t]\n",
    "        entry_price = data_mor['open'].iloc[t] + slippage\n",
    "        amount = ((initial_capital * 0.5) // (entry_price * unit_dollar))\n",
    "        add_price_threshold = entry_price + data_mor['atr'].iloc[t] * 8\n",
    "        \n",
    "        for j in range(t, t + 9):\n",
    "            \n",
    "            if data_mor['open'].iloc[j] >= add_price_threshold:\n",
    "                add_condition = 'B'\n",
    "                add_entry_datetime = data_mor['datetime'].iloc[j]\n",
    "                add_original_price = data_mor['open'].iloc[j]\n",
    "                add_entry_price = data_mor['open'].iloc[j] + slippage\n",
    "                add_amount = round(amount * 0.5)\n",
    "\n",
    "                for k in range(j, t + 9):\n",
    "                \n",
    "                    if data_mor['high'].iloc[k] >= entry_price + stop_profit_point:\n",
    "                        add_exit_price = add_entry_price + stop_profit_point\n",
    "                        add_exit_datetime = data_mor['datetime'].iloc[k]\n",
    "                        break\n",
    "\n",
    "                    if data_mor['low'].iloc[k] <= entry_price - stop_loss_point:\n",
    "                        add_exit_price = entry_price - stop_loss_point\n",
    "                        add_exit_datetime = data_mor['datetime'].iloc[k]\n",
    "                        break\n",
    "\n",
    "                    elif k == t + 8:\n",
    "                        add_exit_price = data_mor['open'].iloc[k] - slippage\n",
    "                        add_exit_datetime = data_mor['datetime'].iloc[k]\n",
    "\n",
    "                add_trade_profit = (add_exit_price - add_entry_price) * unit_dollar * add_amount\n",
    "                add_net_profit = add_trade_profit - commission - (add_exit_price + add_entry_price) * unit_dollar * tax_rate\n",
    "                add_trade_return = (add_net_profit / (add_entry_price * unit_dollar * add_amount))\n",
    "                new_row_add = {'Entry Datetime': add_entry_datetime, 'Original Price': original_price, \n",
    "                               'Condition': 'Add', 'Entry Price': add_entry_price, 'Amount': add_amount, \n",
    "                               'Exit Datetime': add_exit_datetime, 'Exit Price': add_exit_price, 'Trade Profit': add_trade_profit, \n",
    "                               'Net Profit': add_net_profit, 'Trade Return': add_trade_return}\n",
    "                new_row_add_df = pd.DataFrame([new_row_add])\n",
    "                trade_df = pd.concat([trade_df, new_row_add_df], ignore_index=True)\n",
    "                break\n",
    "                    \n",
    "\n",
    "            if data_mor['high'].iloc[j] >= entry_price + stop_profit_point:\n",
    "                exit_price = entry_price + stop_profit_point\n",
    "                exit_datetime = data_mor['datetime'].iloc[j]\n",
    "                break\n",
    "\n",
    "            if data_mor['low'].iloc[j] <= entry_price - stop_loss_point:\n",
    "                exit_price = entry_price - stop_loss_point\n",
    "                exit_datetime = data_mor['datetime'].iloc[j]\n",
    "                break\n",
    "\n",
    "            elif j == t + 8:\n",
    "                exit_price = data_mor['open'].iloc[j] - slippage\n",
    "                exit_datetime = data_mor['datetime'].iloc[j]\n",
    "\n",
    "        trade_profit = (exit_price - entry_price) * unit_dollar * amount\n",
    "        net_profit = trade_profit - commission - (exit_price + entry_price) * unit_dollar * tax_rate\n",
    "        trade_return = (net_profit / (entry_price * unit_dollar * amount))\n",
    "        new_row = {'Entry Datetime' : entry_datetime, 'Original Price' : original_price, 'Condition' : Condition, \n",
    "                   'Entry Price' : entry_price, 'Amount': amount, 'Exit Datetime': exit_datetime, \n",
    "                   'Exit Price': exit_price, 'Trade Profit': trade_profit, 'Net Profit': net_profit, \n",
    "                   'Trade Return': trade_return}\n",
    "\n",
    "        \n",
    "        new_row_df = pd.DataFrame([new_row])\n",
    "        trade_df = pd.concat([trade_df, new_row_df], ignore_index=True)\n",
    "        Condition = None\n",
    "    \n",
    "    elif schange < 0 and data_mor['open'].iloc[t] < data_mor['open'][i]:\n",
    "        Condition = 'S'\n",
    "        entry_datetime = data_mor['datetime'].iloc[t]\n",
    "        original_price = data_mor['open'].iloc[t]\n",
    "        entry_price = data_mor['open'].iloc[t] -slippage\n",
    "        amount = ((initial_capital * 0.05) // (entry_price * unit_dollar))\n",
    "        \n",
    "        for j in range(t, t + 9):\n",
    "\n",
    "            if data_mor['low'].iloc[j] <= entry_price - stop_profit_point:\n",
    "                exit_price = entry_price - stop_profit_point\n",
    "                exit_datetime = data_mor['datetime'].iloc[j]\n",
    "                break\n",
    "\n",
    "            elif data_mor['high'].iloc[j] >= entry_price + stop_loss_point:\n",
    "                exit_price = entry_price + stop_loss_point\n",
    "                exit_datetime = data_mor['datetime'].iloc[j]\n",
    "                break\n",
    "\n",
    "            elif j == t + 8:\n",
    "                exit_price = data_mor['open'].iloc[j] + slippage\n",
    "                exit_datetime = data_mor['datetime'].iloc[j]\n",
    "\n",
    "        trade_profit = (entry_price - exit_price) * unit_dollar * amount\n",
    "        net_profit = trade_profit - commission - (exit_price + entry_price) * unit_dollar * tax_rate\n",
    "        trade_return = (net_profit / (entry_price * unit_dollar * amount))\n",
    "        new_row = {'Entry Datetime' : entry_datetime, 'Original Price' :original_price, 'Condition' : Condition, \n",
    "                   'Entry Price' : entry_price, 'Amount': amount, 'Exit Datetime': exit_datetime, \n",
    "                   'Exit Price': exit_price, 'Trade Profit': trade_profit, 'Net Profit': net_profit, \n",
    "                   'Trade Return': trade_return}\n",
    "        \n",
    "        new_row_df = pd.DataFrame([new_row])\n",
    "        trade_df = pd.concat([trade_df, new_row_df], ignore_index=True)\n",
    "        Condition = None\n",
    "    \n",
    "trade_df.to_excel(\"C:/Users/A51607/Desktop/交易競賽/更新的/trade_record.xlsx\")\n",
    "print(trade_df['Net Profit'].sum())"
   ]
  },
  {
   "cell_type": "code",
   "execution_count": null,
   "metadata": {},
   "outputs": [],
   "source": [
    "trade_df['Cum Profit'] = trade_df['Net Profit'].cumsum()\n",
    "plt.figure(figsize=(14, 7))\n",
    "plt.plot(trade_df['Entry Datetime'], trade_df['Cum Profit'], label='Cumulative Net Profit')\n",
    "plt.xlabel('Date')\n",
    "plt.ylabel('Cumulative Net Profit (million)')\n",
    "plt.title('Cumulative Net Profit Over Time')\n",
    "plt.legend()\n",
    "plt.grid(True)\n",
    "plt.show()"
   ]
  },
  {
   "cell_type": "code",
   "execution_count": null,
   "metadata": {},
   "outputs": [],
   "source": [
    "plt.figure(figsize=(14, 7))\n",
    "plt.plot(trade_df['Entry Datetime'], trade_df['Original Price'], label='Price')\n",
    "long_trades = trade_df[trade_df['Condition'] == 'B']\n",
    "plt.scatter(long_trades['Entry Datetime'], long_trades['Original Price'], color='green', marker='^', label='Long Trade', s=25)\n",
    "short_trades = trade_df[trade_df['Condition'] == 'S']\n",
    "plt.scatter(short_trades['Entry Datetime'], short_trades['Original Price'], color='red', marker='v', label='Short Trade', s=25)\n",
    "plt.xlabel('Date')\n",
    "plt.ylabel('Price')\n",
    "plt.title('Long and Short Trades OVer Time')\n",
    "plt.legend()\n",
    "plt.grid(True)\n",
    "plt.show()"
   ]
  }
 ],
 "metadata": {
  "kernelspec": {
   "display_name": "base",
   "language": "python",
   "name": "python3"
  },
  "language_info": {
   "codemirror_mode": {
    "name": "ipython",
    "version": 3
   },
   "file_extension": ".py",
   "mimetype": "text/x-python",
   "name": "python",
   "nbconvert_exporter": "python",
   "pygments_lexer": "ipython3",
   "version": "3.12.4"
  }
 },
 "nbformat": 4,
 "nbformat_minor": 2
}
